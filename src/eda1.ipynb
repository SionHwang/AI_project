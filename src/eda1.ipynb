{
 "cells": [
  {
   "cell_type": "code",
   "execution_count": 7,
   "metadata": {},
   "outputs": [],
   "source": [
    "import pandas as pd\n",
    "\n",
    "file1 = pd.read_csv('./../data/chs08_a.txt', delimiter = '\\t',  encoding = 'cp949')\n",
    "file1.to_csv('seoul_08.csv', index=False)\n",
    "file2 = pd.read_csv('./../data/chs08_b.txt', delimiter = '\\t',  encoding = 'cp949')\n",
    "file2.to_csv('busan_08.csv', index=False)"
   ]
  },
  {
   "cell_type": "code",
   "execution_count": 8,
   "metadata": {},
   "outputs": [],
   "source": [
    "file1 = pd.read_csv('./../data/chs09_a.txt', delimiter = '\\t',  encoding = 'cp949')\n",
    "file1.to_csv('seoul_09.csv', index=False)\n",
    "file2 = pd.read_csv('./../data/chs09_b.txt', delimiter = '\\t',  encoding = 'cp949')\n",
    "file2.to_csv('busan_09.csv', index=False)"
   ]
  },
  {
   "cell_type": "code",
   "execution_count": 9,
   "metadata": {},
   "outputs": [],
   "source": [
    "file1 = pd.read_csv('./../data/chs10_a.txt', delimiter = '\\t',  encoding = 'cp949')\n",
    "file1.to_csv('seoul_10.csv', index=False)\n",
    "file2 = pd.read_csv('./../data/chs10_b.txt', delimiter = '\\t',  encoding = 'cp949')\n",
    "file2.to_csv('busan_10.csv', index=False)"
   ]
  },
  {
   "cell_type": "code",
   "execution_count": 10,
   "metadata": {},
   "outputs": [],
   "source": [
    "file1 = pd.read_csv('./../data/chs11_a.txt', delimiter = '\\t',  encoding = 'cp949')\n",
    "file1.to_csv('seoul_11.csv', index=False)\n",
    "file2 = pd.read_csv('./../data/chs11_b.txt', delimiter = '\\t',  encoding = 'cp949')\n",
    "file2.to_csv('busan_11.csv', index=False)"
   ]
  },
  {
   "cell_type": "code",
   "execution_count": 11,
   "metadata": {},
   "outputs": [],
   "source": [
    "file1 = pd.read_csv('./../data/chs12_a.txt', delimiter = '\\t',  encoding = 'cp949')\n",
    "file1.to_csv('seoul_12.csv', index=False)\n",
    "file2 = pd.read_csv('./../data/chs12_b.txt', delimiter = '\\t',  encoding = 'cp949')\n",
    "file2.to_csv('busan_12.csv', index=False)"
   ]
  },
  {
   "cell_type": "code",
   "execution_count": 12,
   "metadata": {},
   "outputs": [],
   "source": [
    "file1 = pd.read_csv('./../data/chs13_a.txt', delimiter = '\\t',  encoding = 'cp949')\n",
    "file1.to_csv('seoul_13.csv', index=False)\n",
    "file2 = pd.read_csv('./../data/chs13_b.txt', delimiter = '\\t',  encoding = 'cp949')\n",
    "file2.to_csv('busan_13.csv', index=False)"
   ]
  },
  {
   "cell_type": "code",
   "execution_count": 13,
   "metadata": {},
   "outputs": [],
   "source": [
    "file1 = pd.read_csv('./../data/chs14_a.txt', delimiter = '\\t',  encoding = 'cp949')\n",
    "file1.to_csv('seoul_14.csv', index=False)\n",
    "file2 = pd.read_csv('./../data/chs14_b.txt', delimiter = '\\t',  encoding = 'cp949')\n",
    "file2.to_csv('busan_14.csv', index=False)"
   ]
  },
  {
   "cell_type": "code",
   "execution_count": 14,
   "metadata": {},
   "outputs": [],
   "source": [
    "file1 = pd.read_csv('./../data/chs15_a.txt', delimiter = '\\t',  encoding = 'cp949')\n",
    "file1.to_csv('seoul_15.csv', index=False)\n",
    "file2 = pd.read_csv('./../data/chs15_b.txt', delimiter = '\\t',  encoding = 'cp949')\n",
    "file2.to_csv('busan_15.csv', index=False)"
   ]
  },
  {
   "cell_type": "code",
   "execution_count": 15,
   "metadata": {},
   "outputs": [],
   "source": [
    "file1 = pd.read_csv('./../data/chs16_a.txt', delimiter = '\\t',  encoding = 'cp949')\n",
    "file1.to_csv('seoul_16.csv', index=False)\n",
    "file2 = pd.read_csv('./../data/chs16_b.txt', delimiter = '\\t',  encoding = 'cp949')\n",
    "file2.to_csv('busan_16.csv', index=False)"
   ]
  },
  {
   "cell_type": "code",
   "execution_count": 16,
   "metadata": {},
   "outputs": [
    {
     "name": "stderr",
     "output_type": "stream",
     "text": [
      "C:\\Users\\USER\\anaconda3\\envs\\py37\\lib\\site-packages\\IPython\\core\\interactiveshell.py:3147: DtypeWarning: Columns (135,209) have mixed types.Specify dtype option on import or set low_memory=False.\n",
      "  interactivity=interactivity, compiler=compiler, result=result)\n"
     ]
    }
   ],
   "source": [
    "file1 = pd.read_csv('./../data/chs17_a.txt', delimiter = '\\t',  encoding = 'cp949')\n",
    "file1.to_csv('seoul_17.csv', index=False)\n",
    "file2 = pd.read_csv('./../data/chs17_b.txt', delimiter = '\\t',  encoding = 'cp949')\n",
    "file2.to_csv('busan_17.csv', index=False)"
   ]
  },
  {
   "cell_type": "code",
   "execution_count": 18,
   "metadata": {},
   "outputs": [
    {
     "name": "stderr",
     "output_type": "stream",
     "text": [
      "C:\\Users\\USER\\anaconda3\\envs\\py37\\lib\\site-packages\\IPython\\core\\interactiveshell.py:3147: DtypeWarning: Columns (27,60,71,155,164,192,216,218,220,222,224,226,228) have mixed types.Specify dtype option on import or set low_memory=False.\n",
      "  interactivity=interactivity, compiler=compiler, result=result)\n"
     ]
    }
   ],
   "source": [
    "file1 = pd.read_csv('./../data/chs18_a.txt', delimiter = '\\t',  encoding = 'unicode_escape')\n",
    "file1.to_csv('seoul_18.csv', index=False)\n",
    "file2 = pd.read_csv('./../data/chs18_b.txt', delimiter = '\\t',  encoding = 'unicode_escape')\n",
    "file2.to_csv('busan_18.csv', index=False)"
   ]
  },
  {
   "cell_type": "code",
   "execution_count": 19,
   "metadata": {},
   "outputs": [
    {
     "name": "stderr",
     "output_type": "stream",
     "text": [
      "C:\\Users\\USER\\anaconda3\\envs\\py37\\lib\\site-packages\\IPython\\core\\interactiveshell.py:3147: DtypeWarning: Columns (29,74,80,140,193,205,221,223,225,227,229,231,235,273) have mixed types.Specify dtype option on import or set low_memory=False.\n",
      "  interactivity=interactivity, compiler=compiler, result=result)\n",
      "C:\\Users\\USER\\anaconda3\\envs\\py37\\lib\\site-packages\\IPython\\core\\interactiveshell.py:3147: DtypeWarning: Columns (29,40,63,74,80,91,140,156,193,205,211,219,221,223,227,229,273) have mixed types.Specify dtype option on import or set low_memory=False.\n",
      "  interactivity=interactivity, compiler=compiler, result=result)\n"
     ]
    }
   ],
   "source": [
    "file1 = pd.read_csv('./../data/chs19_a.txt', delimiter = '\\t',  encoding = 'cp949')\n",
    "file1.to_csv('seoul_19.csv', index=False)\n",
    "file2 = pd.read_csv('./../data/chs19_b.txt', delimiter = '\\t',  encoding = 'cp949')\n",
    "file2.to_csv('busan_19.csv', index=False)"
   ]
  },
  {
   "cell_type": "code",
   "execution_count": null,
   "metadata": {},
   "outputs": [],
   "source": []
  }
 ],
 "metadata": {
  "kernelspec": {
   "display_name": "Python 3",
   "language": "python",
   "name": "python3"
  },
  "language_info": {
   "codemirror_mode": {
    "name": "ipython",
    "version": 3
   },
   "file_extension": ".py",
   "mimetype": "text/x-python",
   "name": "python",
   "nbconvert_exporter": "python",
   "pygments_lexer": "ipython3",
   "version": "3.7.9"
  }
 },
 "nbformat": 4,
 "nbformat_minor": 4
}
